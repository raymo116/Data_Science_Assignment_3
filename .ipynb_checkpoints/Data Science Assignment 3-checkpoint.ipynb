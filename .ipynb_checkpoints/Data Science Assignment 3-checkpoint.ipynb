{
 "cells": [
  {
   "cell_type": "markdown",
   "metadata": {},
   "source": [
    "# ReadMe\n",
    "---\n",
    "## Instructions\n",
    "Your assignment is to fill in the portions of the univariate Linear Regression code that are missing with a TODO comment attached to them. This includes parameter estimation, prediction, and performance metric calculation/visualization. There is a dataset provided that the code is already setup to read, but you are allowed to utilize a dataset of your choosing if you would like. There is no associated write up necessary."
   ]
  },
  {
   "cell_type": "markdown",
   "metadata": {},
   "source": [
    "### Import"
   ]
  },
  {
   "cell_type": "code",
   "execution_count": 106,
   "metadata": {},
   "outputs": [],
   "source": [
    "import math\n",
    "import pandas\n",
    "from sklearn.model_selection import train_test_split\n",
    "import matplotlib.pyplot as plt\n",
    "from random import random"
   ]
  },
  {
   "cell_type": "markdown",
   "metadata": {},
   "source": [
    "### Constants"
   ]
  },
  {
   "cell_type": "code",
   "execution_count": 32,
   "metadata": {},
   "outputs": [],
   "source": [
    "TRAIN_DATA_FILE = \"reg_train.csv\"\n",
    "SPLIT_PERC = 0.2"
   ]
  },
  {
   "cell_type": "markdown",
   "metadata": {},
   "source": [
    "### Function Declarations"
   ]
  },
  {
   "cell_type": "code",
   "execution_count": 33,
   "metadata": {},
   "outputs": [],
   "source": [
    "#read the train file and return the data as two lists (ind and dep variables)\n",
    "def readData(fname):\n",
    "    names = [\"feature\", \"prediction\"]\n",
    "    df = pandas.read_csv(fname, names = names)\n",
    "    x = df[[names[0]]].to_numpy()\n",
    "    x = x.reshape(x.shape[0],1)\n",
    "\n",
    "    y = df[[names[1]]].to_numpy()\n",
    "    y = y.reshape(x.shape[0],1)\n",
    "\n",
    "    return train_test_split(x, y, test_size=SPLIT_PERC)"
   ]
  },
  {
   "cell_type": "code",
   "execution_count": 43,
   "metadata": {},
   "outputs": [],
   "source": [
    "def predict(params, x):\n",
    "    return (params[1]*x+params[0])"
   ]
  },
  {
   "cell_type": "code",
   "execution_count": 44,
   "metadata": {},
   "outputs": [],
   "source": [
    "def printParams(params):\n",
    "    print(\"The value of B0 (intercept) is: \", params[0])\n",
    "    print(\"The value of B1 (slope) is: \", params[1])"
   ]
  },
  {
   "cell_type": "code",
   "execution_count": 45,
   "metadata": {},
   "outputs": [],
   "source": [
    "#The linear regression algorithm. Takes a list of lists as input\n",
    "def lreg(x,y):\n",
    "    params = []\n",
    "    b = 0.0 # b0\n",
    "    m = 0.0 # b1\n",
    "    \n",
    "    m_x = 0.0\n",
    "    m_y = 0.0\n",
    "    m_xy = 0.0\n",
    "    m_x2 = 0.0\n",
    "    \n",
    "    for i in range(0, len(x)):\n",
    "        m_x += x[i]\n",
    "        m_y += y[i]\n",
    "        m_xy += x[i]*y[i]\n",
    "        m_x2 += x[i]**2\n",
    "    \n",
    "    m_x /= len(x)\n",
    "    m_y /= len(x)\n",
    "    m_xy /= len(x)\n",
    "    m_x2 /= len(x)\n",
    "    \n",
    "    m = (m_x*m_y-m_xy)/(m_x**2-m_x2)\n",
    "    b = m_y-m*m_x\n",
    "\n",
    "    params.append(b)\n",
    "    params.append(m)\n",
    "    return params"
   ]
  },
  {
   "cell_type": "markdown",
   "metadata": {},
   "source": [
    "### Main Routine"
   ]
  },
  {
   "cell_type": "code",
   "execution_count": 46,
   "metadata": {},
   "outputs": [
    {
     "name": "stdout",
     "output_type": "stream",
     "text": [
      "The value of B0 (intercept) is:  [3.73334895]\n",
      "The value of B1 (slope) is:  [-0.11598388]\n"
     ]
    }
   ],
   "source": [
    "# this is the main routine of the program. You should not have to modify anything here\n",
    "if __name__ == \"__main__\":\n",
    "    xTrain, xTest, yTrain, yTest = readData(TRAIN_DATA_FILE)\n",
    "    parameters = lreg(xTrain,yTrain)\n",
    "    printParams(parameters)\n",
    "\n",
    "    #TODO Validation metrics and visualization\n",
    "    #SciKit Learn and matplotlib.pyplot functions OK here"
   ]
  },
  {
   "cell_type": "code",
   "execution_count": 116,
   "metadata": {},
   "outputs": [
    {
     "data": {
      "image/png": "[encoded data removed]",
      "text/plain": [
       "<Figure size 432x288 with 1 Axes>"
      ]
     },
     "metadata": {
      "needs_background": "light"
     },
     "output_type": "display_data"
    },
    {
     "name": "stdout",
     "output_type": "stream",
     "text": [
      "\n"
     ]
    }
   ],
   "source": [
    "lineX = [min(xTest), max(xTest)]\n",
    "lineY = [predict(parameters, min(xTest)), predict(parameters, max(xTest))]\n",
    "randomY = [((random()+min(yTrain))%max(yTrain)) for i in range(0, len(xTest))]\n",
    "\n",
    "plt.scatter(xTest, yTest, c=[\"lightsteelblue\"], label=\"Real\")\n",
    "plt.scatter(xTest, randomY, c=[\"palevioletred\"], label=\"Random\")\n",
    "plt.plot(lineX, lineY, 'k--', label='Regression Line')\n",
    "    \n",
    "plt.title('Linear Regression Result')\n",
    "plt.legend(loc=1)\n",
    "plt.show()\n",
    "\n",
    "print()"
   ]
  },
  {
   "cell_type": "code",
   "execution_count": 131,
   "metadata": {},
   "outputs": [
    {
     "name": "stdout",
     "output_type": "stream",
     "text": [
      "Number of times Random was closer vs number of times Linear Regression was closer\n",
      "Random: 12 - Linear Regression: 18 \n",
      "\n",
      "Average error of Random vs average error of Linear Regression\n",
      "Random: 0.5954942724934057 - Linear Regression: 0.3663041715792659\n"
     ]
    }
   ],
   "source": [
    "Reg = 0\n",
    "Random = 0\n",
    "\n",
    "errorReg = []\n",
    "errorRand = []\n",
    "\n",
    "for i in range(0, len(xTest)):    \n",
    "    errorReg.append(float(abs(predict(parameters, xTest[i])-yTest[i])))\n",
    "    errorRand.append(float(abs(((random()+min(yTrain))%max(yTrain))-yTest[i])))\n",
    "    \n",
    "    if(errorRand[i] > errorReg[i]):\n",
    "        Random+=1\n",
    "    elif(errorRand[i] < errorReg[i]):\n",
    "        Reg+=1\n",
    "\n",
    "print(\"Number of times Random was closer vs number of times Linear Regression was closer\")\n",
    "print(\"Random:\", Reg, \"- Linear Regression:\", Random, \"\\n\")\n",
    "\n",
    "print(\"Average error of Random vs average error of Linear Regression\")\n",
    "print(\"Random:\", sum(errorRand)/len(xTest), \"- Linear Regression:\", sum(errorReg)/len(xTest))\n"
   ]
  },
  {
   "cell_type": "code",
   "execution_count": null,
   "metadata": {},
   "outputs": [],
   "source": []
  }
 ],
 "metadata": {
  "kernelspec": {
   "display_name": "Python 3",
   "language": "python",
   "name": "python3"
  },
  "language_info": {
   "codemirror_mode": {
    "name": "ipython",
    "version": 3
   },
   "file_extension": ".py",
   "mimetype": "text/x-python",
   "name": "python",
   "nbconvert_exporter": "python",
   "pygments_lexer": "ipython3",
   "version": "3.7.3"
  }
 },
 "nbformat": 4,
 "nbformat_minor": 2
}
